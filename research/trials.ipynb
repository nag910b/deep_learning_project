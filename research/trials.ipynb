{
 "cells": [
  {
   "cell_type": "code",
   "execution_count": 1,
   "id": "72e836ee",
   "metadata": {},
   "outputs": [],
   "source": [
    "#config box\n",
    "from box import ConfigBox"
   ]
  },
  {
   "cell_type": "code",
   "execution_count": 2,
   "id": "eb7bab00",
   "metadata": {},
   "outputs": [],
   "source": [
    "d= {'key1': 'value1', 'key2': 'value2'}\n",
    "config = ConfigBox(d)"
   ]
  },
  {
   "cell_type": "code",
   "execution_count": 3,
   "id": "4930bf8a",
   "metadata": {},
   "outputs": [
    {
     "data": {
      "text/plain": [
       "'value1'"
      ]
     },
     "execution_count": 3,
     "metadata": {},
     "output_type": "execute_result"
    }
   ],
   "source": [
    "config.key1"
   ]
  },
  {
   "cell_type": "code",
   "execution_count": 4,
   "id": "e846f979",
   "metadata": {},
   "outputs": [
    {
     "data": {
      "text/plain": [
       "box.config_box.ConfigBox"
      ]
     },
     "execution_count": 4,
     "metadata": {},
     "output_type": "execute_result"
    }
   ],
   "source": [
    "type(config)"
   ]
  },
  {
   "cell_type": "code",
   "execution_count": 1,
   "id": "03a180da",
   "metadata": {},
   "outputs": [],
   "source": [
    "#dwonload data from gdrive\n",
    "import gdown\n"
   ]
  },
  {
   "cell_type": "code",
   "execution_count": 2,
   "id": "d05d740d",
   "metadata": {},
   "outputs": [],
   "source": [
    "url = \"https://drive.google.com/file/d/1xVDfirzTng52OZaXvT1DCdF44PINyBln/view?usp=sharing\""
   ]
  },
  {
   "cell_type": "code",
   "execution_count": 5,
   "id": "80ea6e31",
   "metadata": {},
   "outputs": [
    {
     "data": {
      "text/plain": [
       "'1xVDfirzTng52OZaXvT1DCdF44PINyBln'"
      ]
     },
     "execution_count": 5,
     "metadata": {},
     "output_type": "execute_result"
    }
   ],
   "source": [
    "file_id =url.split('/')[-2]\n",
    "file_id"
   ]
  },
  {
   "cell_type": "code",
   "execution_count": 6,
   "id": "9017421b",
   "metadata": {},
   "outputs": [
    {
     "name": "stderr",
     "output_type": "stream",
     "text": [
      "Downloading...\n",
      "From (original): https://drive.google.com/uc?/export=download&id=1xVDfirzTng52OZaXvT1DCdF44PINyBln\n",
      "From (redirected): https://drive.google.com/uc?%2Fexport=download&id=1xVDfirzTng52OZaXvT1DCdF44PINyBln&confirm=t&uuid=1227946b-02f4-46cf-9240-f6ee4fb23335\n",
      "To: c:\\Users\\hp\\OneDrive\\Desktop\\deep_learning_project\\research\\kidney-CT-Scan-data.zip\n",
      "100%|██████████| 54.4M/54.4M [00:15<00:00, 3.47MB/s]\n"
     ]
    },
    {
     "data": {
      "text/plain": [
       "'kidney-CT-Scan-data.zip'"
      ]
     },
     "execution_count": 6,
     "metadata": {},
     "output_type": "execute_result"
    }
   ],
   "source": [
    "prefix = 'https://drive.google.com/uc?/export=download&id='\n",
    "gdown.download(prefix+file_id,\"kidney-CT-Scan-data.zip\")"
   ]
  },
  {
   "cell_type": "code",
   "execution_count": null,
   "id": "64eab077",
   "metadata": {},
   "outputs": [],
   "source": []
  }
 ],
 "metadata": {
  "kernelspec": {
   "display_name": "base",
   "language": "python",
   "name": "python3"
  },
  "language_info": {
   "codemirror_mode": {
    "name": "ipython",
    "version": 3
   },
   "file_extension": ".py",
   "mimetype": "text/x-python",
   "name": "python",
   "nbconvert_exporter": "python",
   "pygments_lexer": "ipython3",
   "version": "3.10.9"
  }
 },
 "nbformat": 4,
 "nbformat_minor": 5
}
